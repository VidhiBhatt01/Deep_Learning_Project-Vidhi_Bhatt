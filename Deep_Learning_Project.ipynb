{
  "nbformat": 4,
  "nbformat_minor": 0,
  "metadata": {
    "colab": {
      "name": "Deep Learning Project.ipynb",
      "provenance": [],
      "collapsed_sections": []
    },
    "kernelspec": {
      "name": "python3",
      "display_name": "Python 3"
    },
    "language_info": {
      "name": "python"
    }
  },
  "cells": [
    {
      "cell_type": "code",
      "metadata": {
        "id": "gSLaYxxIYxo_"
      },
      "source": [
        "## IMPORT DATASET\n",
        "from keras.datasets import mnist\n",
        "\n",
        "data = mnist.load_data()"
      ],
      "execution_count": 1,
      "outputs": []
    },
    {
      "cell_type": "markdown",
      "metadata": {
        "id": "I0FecFdWcJp4"
      },
      "source": [
        "**Define Training and Testing data**"
      ]
    },
    {
      "cell_type": "code",
      "metadata": {
        "id": "b1CRUZYibM1j"
      },
      "source": [
        "(X_train , y_train), (X_test , y_test) = data"
      ],
      "execution_count": 2,
      "outputs": []
    },
    {
      "cell_type": "code",
      "metadata": {
        "id": "Bbgo1eeQsm5P"
      },
      "source": [
        "#Reshape the training data\n",
        "X_train = X_train.reshape((X_train.shape[0], 28*28)).astype('float32')\n",
        "X_test = X_test.reshape((X_test.shape[0], 28*28)).astype('float32')"
      ],
      "execution_count": 3,
      "outputs": []
    },
    {
      "cell_type": "code",
      "metadata": {
        "id": "_23W6z_ctgq_"
      },
      "source": [
        "#Normalizing values from 0-255 to 0-1\n",
        "X_train = X_train /255\n",
        "X_test = X_test/255"
      ],
      "execution_count": 4,
      "outputs": []
    },
    {
      "cell_type": "code",
      "metadata": {
        "colab": {
          "base_uri": "https://localhost:8080/"
        },
        "id": "PvXBxU9ytw3p",
        "outputId": "f4381ab8-3165-4af4-c9b8-070e9c2d93c9"
      },
      "source": [
        "from keras.utils import np_utils\n",
        "\n",
        "print(y_test.shape)\n",
        "\n",
        "y_train = np_utils.to_categorical(y_train)\n",
        "y_test = np_utils.to_categorical(y_test)\n",
        "\n",
        "num_classes = y_test.shape[1]\n",
        "print(num_classes)"
      ],
      "execution_count": 5,
      "outputs": [
        {
          "output_type": "stream",
          "text": [
            "(10000,)\n",
            "10\n"
          ],
          "name": "stdout"
        }
      ]
    },
    {
      "cell_type": "code",
      "metadata": {
        "id": "iDPwhqd4u3dU"
      },
      "source": [
        "from keras.models import Sequential\n",
        "from keras.layers import Dense"
      ],
      "execution_count": 6,
      "outputs": []
    },
    {
      "cell_type": "code",
      "metadata": {
        "id": "nHbUEzuYvQJ6"
      },
      "source": [
        "#Define Model\n",
        "model = Sequential()\n",
        "\n",
        "#Add First Hidden Layer\n",
        "model.add(Dense(32, input_dim = 28*28 , activation='relu'))\n",
        "\n",
        "#Add Second Hidden Layer\n",
        "model.add(Dense(64, activation='relu'))\n",
        "\n",
        "#Add Output layer having 10 neurons (since there are 10 classes/categories in target variable)\n",
        "model.add(Dense(10, activation='softmax'))\n"
      ],
      "execution_count": 7,
      "outputs": []
    },
    {
      "cell_type": "code",
      "metadata": {
        "id": "N6_L-fQwxmt5"
      },
      "source": [
        "model.compile(loss='categorical_crossentropy' , optimizer='adam' , metrics=['accuracy'])"
      ],
      "execution_count": 8,
      "outputs": []
    },
    {
      "cell_type": "code",
      "metadata": {
        "colab": {
          "base_uri": "https://localhost:8080/"
        },
        "id": "YI23B80xyIp5",
        "outputId": "7265d698-d57a-458e-f781-ae687b4a4016"
      },
      "source": [
        "#Print Model Summary\n",
        "model.summary()"
      ],
      "execution_count": 9,
      "outputs": [
        {
          "output_type": "stream",
          "text": [
            "Model: \"sequential\"\n",
            "_________________________________________________________________\n",
            "Layer (type)                 Output Shape              Param #   \n",
            "=================================================================\n",
            "dense (Dense)                (None, 32)                25120     \n",
            "_________________________________________________________________\n",
            "dense_1 (Dense)              (None, 64)                2112      \n",
            "_________________________________________________________________\n",
            "dense_2 (Dense)              (None, 10)                650       \n",
            "=================================================================\n",
            "Total params: 27,882\n",
            "Trainable params: 27,882\n",
            "Non-trainable params: 0\n",
            "_________________________________________________________________\n"
          ],
          "name": "stdout"
        }
      ]
    },
    {
      "cell_type": "code",
      "metadata": {
        "colab": {
          "base_uri": "https://localhost:8080/"
        },
        "id": "aa0fx2ucyQrH",
        "outputId": "6c1c2218-73bb-4de4-d43a-6a3d806843b8"
      },
      "source": [
        "#Train Model\n",
        "model.fit(X_train, y_train, epochs=10 , batch_size=100)"
      ],
      "execution_count": 10,
      "outputs": [
        {
          "output_type": "stream",
          "text": [
            "Epoch 1/10\n",
            "600/600 [==============================] - 2s 2ms/step - loss: 0.7600 - accuracy: 0.7807\n",
            "Epoch 2/10\n",
            "600/600 [==============================] - 1s 2ms/step - loss: 0.2037 - accuracy: 0.9419\n",
            "Epoch 3/10\n",
            "600/600 [==============================] - 1s 2ms/step - loss: 0.1548 - accuracy: 0.9538\n",
            "Epoch 4/10\n",
            "600/600 [==============================] - 1s 2ms/step - loss: 0.1245 - accuracy: 0.9624\n",
            "Epoch 5/10\n",
            "600/600 [==============================] - 1s 2ms/step - loss: 0.1094 - accuracy: 0.9675\n",
            "Epoch 6/10\n",
            "600/600 [==============================] - 1s 2ms/step - loss: 0.0963 - accuracy: 0.9717\n",
            "Epoch 7/10\n",
            "600/600 [==============================] - 1s 2ms/step - loss: 0.0836 - accuracy: 0.9741\n",
            "Epoch 8/10\n",
            "600/600 [==============================] - 1s 2ms/step - loss: 0.0766 - accuracy: 0.9769\n",
            "Epoch 9/10\n",
            "600/600 [==============================] - 1s 2ms/step - loss: 0.0684 - accuracy: 0.9785\n",
            "Epoch 10/10\n",
            "600/600 [==============================] - 1s 2ms/step - loss: 0.0675 - accuracy: 0.9784\n"
          ],
          "name": "stdout"
        },
        {
          "output_type": "execute_result",
          "data": {
            "text/plain": [
              "<tensorflow.python.keras.callbacks.History at 0x7f3fb059c450>"
            ]
          },
          "metadata": {
            "tags": []
          },
          "execution_count": 10
        }
      ]
    },
    {
      "cell_type": "markdown",
      "metadata": {
        "id": "DEWY8Nyhy9Mm"
      },
      "source": [
        "**Check Model Performance**"
      ]
    },
    {
      "cell_type": "code",
      "metadata": {
        "colab": {
          "base_uri": "https://localhost:8080/"
        },
        "id": "1TnynylczFJ7",
        "outputId": "d48f5575-3e1b-48cb-da94-f13b2f4b922d"
      },
      "source": [
        "scores = model.evaluate(X_test, y_test)\n",
        "print(scores)  ## return loss and accuracy"
      ],
      "execution_count": 11,
      "outputs": [
        {
          "output_type": "stream",
          "text": [
            "313/313 [==============================] - 0s 1ms/step - loss: 0.1131 - accuracy: 0.9662\n",
            "[0.11305306106805801, 0.9661999940872192]\n"
          ],
          "name": "stdout"
        }
      ]
    }
  ]
}